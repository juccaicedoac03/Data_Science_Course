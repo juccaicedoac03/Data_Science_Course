{
  "nbformat": 4,
  "nbformat_minor": 0,
  "metadata": {
    "colab": {
      "name": "Bisección.ipynb",
      "provenance": [],
      "authorship_tag": "ABX9TyPtxnyPQ5aZXWDSuF2FXksD",
      "include_colab_link": true
    },
    "kernelspec": {
      "name": "python3",
      "display_name": "Python 3"
    },
    "language_info": {
      "name": "python"
    }
  },
  "cells": [
    {
      "cell_type": "markdown",
      "metadata": {
        "id": "view-in-github",
        "colab_type": "text"
      },
      "source": [
        "<a href=\"https://colab.research.google.com/github/juccaicedoac03/Data_Science_Course/blob/main/1_Ra%C3%ADces_de_funciones/Bisecci%C3%B3n.ipynb\" target=\"_parent\"><img src=\"https://colab.research.google.com/assets/colab-badge.svg\" alt=\"Open In Colab\"/></a>"
      ]
    },
    {
      "cell_type": "markdown",
      "source": [
        "# Definiciones de error"
      ],
      "metadata": {
        "id": "X9GVHe22DOxy"
      }
    },
    {
      "cell_type": "markdown",
      "source": [
        "* Error verdadero :\n",
        "\n",
        "$$ E_{t} = \\text{valor verdadero} - \\text{valor aproximado} $$\n",
        "\n",
        "* Error relativo porcentual verdadero:\n",
        "\n",
        "$$ \\epsilon_{t} = \\frac{\\text{valor verdadero} - \\text{valor aproximado}}{\\text{valor verdadero}}\\cdot 100\\% $$\n",
        "\n",
        "* Error relativo porcentual aproximado: \n",
        "\n",
        "$$ \\epsilon_{a} = \\frac{\\text{aproximación presente} - \\text{aproximación anterior}}{\\text{aproximación presente}}\\cdot 100\\% $$\n",
        "\n",
        "* Criterio de parada:\n",
        "\n",
        "$$ \\text{Terminar cuando: } \\epsilon_{a}<\\epsilon_{s} $$\n",
        "\n",
        "$$ \\epsilon_{s}: \\text{ error relativo porcentual deseado} $$"
      ],
      "metadata": {
        "id": "H4xbXBBADTU6"
      }
    },
    {
      "cell_type": "markdown",
      "source": [
        "# Método de Bisección"
      ],
      "metadata": {
        "id": "fCU4HU7sFql_"
      }
    },
    {
      "cell_type": "markdown",
      "source": [
        "<img src=\"https://github.com/juccaicedoac03/Numeric_methods_and_Optimization_Course/blob/main/1_Ra%C3%ADces_de_funciones/Figs/root1.png?raw=true:, width=100\" alt=\"find roots\" width=200>\n",
        "\n",
        "\n",
        "Localizar el intervalo donde la función cambia de signo: $f(x_{l})f(x_{u})<0$\n",
        "\n",
        "\\\\\n",
        "**Clave:** \n",
        "\n",
        "Dividir el intervalo (a la mitad) en varios subintervalos. Se investiga cada uno de estos subintervalos para encontrar el cambio de signo. El proceso se repite y la aproximación a la raíz mejora cada vez más en la medida que los subintervalos se dividen en intervalos cada vez más pequeños.\n",
        "\n",
        "\\\\\n",
        "Si la función cambia de signo sobre un intervalo, se evalúa el valor de la función en el punto medio. La posición de la raíz se determina situándola en el punto medio del subintervalo, dentro del cual ocurre un cambio de signo. El proceso se repite hasta obtener una mejor aproximación.\n",
        "\n",
        "\\\\\n",
        "\n",
        "**Pasos:**\n",
        "\n",
        "* *Paso 1:* Se elijen valores iniciales inferior $(x_l)$, y superior $(x_u)$, que encierren la raíz, de forma tal que la función cambie de signo en el intervalo. Esto se verifica comprobando que $f(x_l) f(x_u) < 0$.\n",
        "\n",
        "* *Paso 2:* Una aproximación de la raíz $x_r$ se determina mediante:\n",
        "\n",
        "$$ x_{r} = \\frac{x_{l} + x_{u}}{2} $$\n",
        "\n",
        "* *Paso 3:* Realice las siguientes evaluaciones para determinar en qué subintervalo está la raíz:\n",
        "\n",
        "    * Si $f(x_l) f(x_u) < 0$ entonces la raíz se encuentra dentro del subintervalo inferior o izquierdo. Por lo tanto: $x_{u} = x_{r}$ y volver al paso 2.\n",
        "\n",
        "    * Si $f(x_l) f(x_u) > 0$ entonces la raíz se encuentra dentro del subintervalo superior o derecho. Por lo tanto: $x_{l} = x_{r}$ y volver al paso 2.\n",
        "\n",
        "    * Si $f(x_l) f(x_u) = 0$, la raíz es igual a $x_{r}$; termina el cálculo.\n",
        "\n",
        "\n",
        "\\\\\n",
        "**Criterio de parada:** \n",
        "\n",
        "Se requiere estimar el error de forma tal que no se necesite el conocimiento previo de la raíz.\n",
        "\n",
        "Se usa el error relativo porcentual aproximado: \n",
        "\n",
        "$$ \\epsilon_{a} = \\bigg|\\frac{x_{r}^{nuevo} - x_{r}^{anterior}}{x_{r}^{nuevo}}\\bigg|\\cdot 100\\% $$\n",
        "\n",
        "donde $X_{r}$ es el valor de la raíz.\n",
        "\n",
        "*Cuando $\\epsilon_{a}$ es menor que un umbral fijado $\\epsilon_{s}$, termina el cálculo*\n",
        "\n",
        "\\\\\n",
        "**Anotaciones:** (Demostrar)\n",
        "\n",
        "* La raíz verdadera se halla en algún lugar dentro del intervalo de $(x_u - X_l)/2 = \\Delta x/2$\n",
        "\n",
        "* $\\Delta x/2 = x_{r}^{nuevo}-x_{r}^{anterior}$\n",
        "\n",
        "* $x_{r}^{nuevo}-x_{r}^{anterior} = \\frac{x_u - x_l}{2}$\n",
        "\n",
        "* $x_{r}^{nuevo} = \\frac{x_l + x_u}{2}$\n",
        "\n",
        "* $\\epsilon_{a} = \\big| \\frac{x_u -x_l}{x_u + x_l}\\big|\\cdot 100\\%$\n",
        "\n",
        "\n",
        "\\\\\n",
        "**Ventajas:** \n",
        "\n",
        "El número de iteraciones requerido para obtener un error absoluto se calcula a priori:\n",
        "\n",
        "* El error inicial (absoluto) es: $E_{a}^{0} = x_{u}^{0}-x_{l}^{0} = \\Delta x^{0}$\n",
        "\n",
        "* Después de la primera iteración el error será: $E_{a}^{1} = \\frac{\\Delta x^{0}}{2}$\n",
        "\n",
        "* El error se reduce a la mitad en cada iteración $n$ y su forma general es: $E_{a}^{n} = \\frac{\\Delta x^{0}}{2^{n}}$\n",
        "\n",
        "**Ejercicio:** Si $E_{a,d}$ es el error deseado, despejar de la anterior ecuación y encontrar n"
      ],
      "metadata": {
        "id": "ilWU3l11HzbW"
      }
    },
    {
      "cell_type": "markdown",
      "source": [
        "# Algoritmo"
      ],
      "metadata": {
        "id": "_BMrfXoho-CN"
      }
    },
    {
      "cell_type": "code",
      "source": [
        "import numpy as np\n",
        "import matplotlib.pyplot as plt"
      ],
      "metadata": {
        "id": "u4E9v8ZxS9yQ"
      },
      "execution_count": 75,
      "outputs": []
    },
    {
      "cell_type": "code",
      "source": [
        "def fn(x): # Creamos la función \n",
        "    return ((667.38/x)*(1-np.exp(-0.146843*x)))-40"
      ],
      "metadata": {
        "id": "0E09E9PdP3ZC"
      },
      "execution_count": 76,
      "outputs": []
    },
    {
      "cell_type": "code",
      "source": [
        "X = np.arange(1,21)"
      ],
      "metadata": {
        "id": "d3NYtMgPTsFa"
      },
      "execution_count": 77,
      "outputs": []
    },
    {
      "cell_type": "code",
      "source": [
        "plt.plot(X,fn(X))\n",
        "plt.xlim([4,20])\n",
        "plt.ylim([-10,40])\n",
        "plt.grid(True)\n",
        "plt.show()"
      ],
      "metadata": {
        "colab": {
          "base_uri": "https://localhost:8080/",
          "height": 269
        },
        "id": "ZIx2r9WtT4I-",
        "outputId": "7c171222-024b-4ba6-80f2-707414d2a489"
      },
      "execution_count": 78,
      "outputs": [
        {
          "output_type": "display_data",
          "data": {
            "text/plain": [
              "<Figure size 432x288 with 1 Axes>"
            ],
            "image/png": "[encoded data removed]"
          },
          "metadata": {
            "needs_background": "light"
          }
        }
      ]
    },
    {
      "cell_type": "code",
      "execution_count": 94,
      "metadata": {
        "id": "1pl2sWt3DEwg",
        "colab": {
          "base_uri": "https://localhost:8080/"
        },
        "outputId": "67d8b96b-ac50-49af-f5a6-f37b6a2726ba"
      },
      "outputs": [
        {
          "output_type": "stream",
          "name": "stdout",
          "text": [
            "Iter: 1  x_l: 14.0  x_u: 16  x_r: 14.0  E_a: 14.286\n",
            "Iter: 2  x_l: 14.0  x_u: 15.0  x_r: 15.0  E_a: 6.667\n",
            "Iter: 3  x_l: 14.5  x_u: 15.0  x_r: 14.5  E_a: 3.448\n",
            "Iter: 4  x_l: 14.75  x_u: 15.0  x_r: 14.75  E_a: 1.695\n",
            "Iter: 5  x_l: 14.75  x_u: 14.875  x_r: 14.875  E_a: 0.84\n",
            "Iter: 6  x_l: 14.75  x_u: 14.8125  x_r: 14.8125  E_a: 0.422\n"
          ]
        }
      ],
      "source": [
        "# parámetros iniciales\n",
        "\n",
        "xl = 12 \n",
        "xu = 16\n",
        "\n",
        "es = 0.5\n",
        "imax = 15\n",
        "\n",
        "\n",
        "# algoritmo iterativo\n",
        "\n",
        "ea = abs(xu - xl)\n",
        "\n",
        "iter = 0\n",
        "\n",
        "xr = xl\n",
        "\n",
        "\n",
        "while (ea > es) and (iter <= imax):\n",
        "\n",
        "    xrold = xr\n",
        "    xr = (xl + xu)/2\n",
        "\n",
        "    iter += 1\n",
        "    \n",
        "    if xr != 0:\n",
        "        ea = abs((xr-xrold)/xr) * 100\n",
        "    \n",
        "    test = fn(xl) * fn(xr)\n",
        "\n",
        "    if test <0:\n",
        "        xu = xr\n",
        "    elif test > 0:\n",
        "        xl = xr\n",
        "    else:\n",
        "        ea = 0\n",
        "\n",
        "    print('Iter: {}  x_l: {}  x_u: {}  x_r: {}  E_a: {}'.format(iter, xl, xu , xr, np.round(ea,3)))\n"
      ]
    },
    {
      "cell_type": "markdown",
      "source": [
        "**Ejercicio:** Crear una función que encuentre las raíces de una función a través del método de bisección y probarlo con 3 funciones distintas."
      ],
      "metadata": {
        "id": "yJjXq38osXQb"
      }
    },
    {
      "cell_type": "code",
      "source": [
        ""
      ],
      "metadata": {
        "id": "37d_weTpQyH9"
      },
      "execution_count": null,
      "outputs": []
    },
    {
      "cell_type": "markdown",
      "source": [
        "**NOTA:** El algoritmo de bisección es adecuado si se quiere realizar la evaluación de una sola raíz de una función que es fácil de evaluar. Sin embargo, hay muchos casos en ingeniería que no son así. Por ejemplo, suponga que se quiere desarrollar un programa computacional que localice varias raíces.\n",
        "\n",
        "**Ejercicio:** ¿Cual es la complejidad del algoritmo? "
      ],
      "metadata": {
        "id": "YZ4k0au7sj80"
      }
    }
  ]
}