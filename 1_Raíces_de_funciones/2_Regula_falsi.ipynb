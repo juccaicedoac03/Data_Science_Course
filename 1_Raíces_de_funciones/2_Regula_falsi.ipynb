{
  "nbformat": 4,
  "nbformat_minor": 0,
  "metadata": {
    "colab": {
      "name": "2_Regula_falsi.ipynb",
      "provenance": [],
      "collapsed_sections": [],
      "authorship_tag": "ABX9TyPV/KcwhpRhCxlawLZU/z1D",
      "include_colab_link": true
    },
    "kernelspec": {
      "name": "python3",
      "display_name": "Python 3"
    },
    "language_info": {
      "name": "python"
    }
  },
  "cells": [
    {
      "cell_type": "markdown",
      "metadata": {
        "id": "view-in-github",
        "colab_type": "text"
      },
      "source": [
        "<a href=\"https://colab.research.google.com/github/juccaicedoac03/Data_Science_Course/blob/main/1_Ra%C3%ADces_de_funciones/2_Regula_falsi.ipynb\" target=\"_parent\"><img src=\"https://colab.research.google.com/assets/colab-badge.svg\" alt=\"Open In Colab\"/></a>"
      ]
    },
    {
      "cell_type": "markdown",
      "source": [
        "# Método de falsa posición (Regula falsi)"
      ],
      "metadata": {
        "id": "7mtkLDvpwCGD"
      }
    },
    {
      "cell_type": "markdown",
      "source": [
        "**Background:** \n",
        "\n",
        "Un inconveniente del método de bisección es que al dividir el intervalo de xl a xu en mitades iguales, no se toman en consideración las magnitudes de $f(x_l)$ y $f(x_u)$.\n",
        "\n",
        "\\\\\n",
        "\n",
        "**Clave:** \n",
        "\n",
        "Unir $f(x_l)$ y $f(x_u)$ con una línea recta. La intersección de esta línea con el eje de las $x$ representa una mejor aproximación de la raíz. \n",
        "\n",
        "Se utiliza triángulos semejantes, la intersección de la línea recta con el eje de las x se estima de la siguiente manera:\n",
        "\n",
        "<img src=\"https://github.com/juccaicedoac03/Numeric_methods_and_Optimization_Course/blob/main/1_Ra%C3%ADces_de_funciones/Figs/RegFalsi.png?raw=true:, width=100\" alt=\"find roots\" width=400>\n",
        "\n",
        "\n",
        "**Triángulos semejantes:**\n",
        "\n",
        "$$ \\frac{f(x_l)}{x_r - x_l} = \\frac{f(x_u)}{x_r - x_u}$$\n",
        "\n",
        "\\\\\n",
        "$$ x_{r} = x_u-\\frac{f(x_u)(x_l - x_u)}{f(x_l)-f(x_u)}$$\n",
        "\n",
        "\\\\\n",
        "**Ejercicio:** Realizar demostración de la euación anterior.\n",
        "\n",
        "\\\\\n",
        "El valor de $x_r$ calculado con la ecuación, reemplazará, después, a cualquiera de los dos valores iniciales, $x_l$ o $x_u$, y da un valor de la función con el mismo signo de $f(x_r)$. De esta manera, los valores $x_l$ y $x_u$ siempre encierran la verdadera raíz. \n",
        "\n",
        "\n",
        "\\\\\n",
        "El proceso se repite hasta que la aproximación a la raíz sea adecuada.\n",
        "\n",
        "\\\\\n",
        "**Desventajas:** \n",
        "\n",
        "Unilateralidad: conforme se avanza en las iteraciones, uno de los puntos limitantes del intervalo tiende a permanecer fijo. Esto puede llevar a una mala convergencia, especialmente en funciones con una curvatura importante.\n",
        "\n",
        "\\\\\n",
        "**Solución:** \n",
        "\n",
        "Una forma de disminuir la naturaleza unilateral de la falsa posición consiste en obtener un algoritmo que detecte cuando se “estanca” uno de los límites del intervalo. Si ocurre esto, se divide a la mitad el valor de la función en el punto de “estancamiento”. A este método se le llama método de la *falsa posición modificado*.\n",
        "\n",
        "\\\\\n",
        "*En el código:* \n",
        "\n",
        "Se usa contadores para determinar si uno de los límites del intervalo permanece fijo “estancado” durante dos iteraciones. Si ocurre así, el valor de la función en este valor de “estancamiento” se divide a la mitad."
      ],
      "metadata": {
        "id": "3b3l3KYzwJuc"
      }
    },
    {
      "cell_type": "markdown",
      "source": [
        "# Algoritmo"
      ],
      "metadata": {
        "id": "VEGJzGBm4oyt"
      }
    },
    {
      "cell_type": "code",
      "execution_count": 1,
      "metadata": {
        "id": "ACysmFW3vqll"
      },
      "outputs": [],
      "source": [
        "import numpy as np\n",
        "import matplotlib.pyplot as plt"
      ]
    },
    {
      "cell_type": "code",
      "source": [
        "def fn(x): # Creamos la función \n",
        "    return (x**10)-1"
      ],
      "metadata": {
        "id": "PuTcKWfx6LfY"
      },
      "execution_count": 2,
      "outputs": []
    },
    {
      "cell_type": "code",
      "source": [
        "X = np.arange(0,1.4,0.05)"
      ],
      "metadata": {
        "id": "7CcowNId6VO7"
      },
      "execution_count": 18,
      "outputs": []
    },
    {
      "cell_type": "code",
      "source": [
        "plt.plot(X,fn(X))\n",
        "plt.xlim([-0.1,1.5])\n",
        "plt.ylim([-2,15])\n",
        "plt.grid(True)\n",
        "plt.show()"
      ],
      "metadata": {
        "colab": {
          "base_uri": "https://localhost:8080/",
          "height": 265
        },
        "id": "RRlrzsnP6bs6",
        "outputId": "0330a320-675c-4c77-9db7-af74c0e9e3b9"
      },
      "execution_count": 19,
      "outputs": [
        {
          "output_type": "display_data",
          "data": {
            "text/plain": [
              "<Figure size 432x288 with 1 Axes>"
            ],
            "image/png": "[encoded data removed]"
          },
          "metadata": {
            "needs_background": "light"
          }
        }
      ]
    },
    {
      "cell_type": "code",
      "source": [
        "# parámetros iniciales\n",
        "\n",
        "xl = 0\n",
        "xu = 1.3\n",
        "\n",
        "es = 0.5\n",
        "imax = 15\n",
        "\n",
        "\n",
        "# algoritmo iterativo\n",
        "\n",
        "ea = abs(xu - xl)\n",
        "\n",
        "iter = 0\n",
        "fl = fn(xl)\n",
        "fu = fn(xu)\n",
        "\n",
        "xr = xl\n",
        "\n",
        "iu = 0\n",
        "il = 0\n",
        "\n",
        "while (ea > es) and (iter <= imax):\n",
        "\n",
        "    xrold = xr\n",
        "    xr = xu - (fu*(xl - xu)/(fl - fu))\n",
        "    fr = fn(xr)\n",
        "\n",
        "    iter += 1\n",
        "    \n",
        "    if xr != 0:\n",
        "        ea = abs((xr-xrold)/xr) * 100\n",
        "    \n",
        "    test = fl * fr\n",
        "\n",
        "    if test <0:\n",
        "        xu = xr\n",
        "        fu = fn(xu)\n",
        "        iu = 0\n",
        "        il = il +1\n",
        "        if il >= 2:\n",
        "            fl = fl/2\n",
        "    elif test > 0:\n",
        "        xl = xr\n",
        "        fl = fn(xl)\n",
        "        il = 0\n",
        "        iu = iu + 1\n",
        "        if iu >= 2:\n",
        "            fu = fu/2\n",
        "    else:\n",
        "        ea = 0\n",
        "\n",
        "    print('Iter: {}  x_l: {}  x_u: {}  x_r: {}  E_a: {}'.format(iter, np.round(xl,3), np.round(xu,3) , np.round(xr,3), np.round(ea,3)))\n"
      ],
      "metadata": {
        "colab": {
          "base_uri": "https://localhost:8080/"
        },
        "id": "ZLR4Neh16jDy",
        "outputId": "2a3594cb-e36c-4f2c-9f40-4a2520ec6063"
      },
      "execution_count": 24,
      "outputs": [
        {
          "output_type": "stream",
          "name": "stdout",
          "text": [
            "Iter: 1  x_l: 0.094  x_u: 1.3  x_r: 0.094  E_a: 100.0\n",
            "Iter: 2  x_l: 0.182  x_u: 1.3  x_r: 0.182  E_a: 48.118\n",
            "Iter: 3  x_l: 0.333  x_u: 1.3  x_r: 0.333  E_a: 45.421\n",
            "Iter: 4  x_l: 0.563  x_u: 1.3  x_r: 0.563  E_a: 40.896\n",
            "Iter: 5  x_l: 0.846  x_u: 1.3  x_r: 0.846  E_a: 33.428\n",
            "Iter: 6  x_l: 0.846  x_u: 1.075  x_r: 1.075  E_a: 21.262\n",
            "Iter: 7  x_l: 0.945  x_u: 1.075  x_r: 0.945  E_a: 13.688\n",
            "Iter: 8  x_l: 0.983  x_u: 1.075  x_r: 0.983  E_a: 3.796\n",
            "Iter: 9  x_l: 0.983  x_u: 1.004  x_r: 1.004  E_a: 2.121\n",
            "Iter: 10  x_l: 1.0  x_u: 1.004  x_r: 1.0  E_a: 0.442\n"
          ]
        }
      ]
    },
    {
      "cell_type": "markdown",
      "source": [
        "**Ejercicio:** Graficar las rectas de cada iteración"
      ],
      "metadata": {
        "id": "45XbSUmC-_fh"
      }
    },
    {
      "cell_type": "code",
      "source": [
        ""
      ],
      "metadata": {
        "id": "f08dqaxB_R0Y"
      },
      "execution_count": null,
      "outputs": []
    },
    {
      "cell_type": "markdown",
      "source": [
        "**Ejercicio:** Crear una función que encuentre las raíces de una función a través del método de la falsa posición y probarlo con 3 funciones distintas."
      ],
      "metadata": {
        "id": "frbqmeo5_Rbe"
      }
    },
    {
      "cell_type": "code",
      "source": [
        ""
      ],
      "metadata": {
        "id": "kdOP0hUd9vPG"
      },
      "execution_count": null,
      "outputs": []
    },
    {
      "cell_type": "markdown",
      "source": [
        "**Ejercicio:** Realizar una comparación del método de falsa pocición y el de bisección. Decir cual es mejor y en que casos."
      ],
      "metadata": {
        "id": "Ni2cGSwz_W4s"
      }
    },
    {
      "cell_type": "code",
      "source": [
        ""
      ],
      "metadata": {
        "id": "g3r5tq1G_yDc"
      },
      "execution_count": null,
      "outputs": []
    },
    {
      "cell_type": "markdown",
      "source": [
        "**Ejercicio:** ¿Cual es la complejidad del método de falsa posición? "
      ],
      "metadata": {
        "id": "GrA4Covs_0O_"
      }
    },
    {
      "cell_type": "code",
      "source": [
        ""
      ],
      "metadata": {
        "id": "fLFRg9Mv_7K1"
      },
      "execution_count": null,
      "outputs": []
    }
  ]
}