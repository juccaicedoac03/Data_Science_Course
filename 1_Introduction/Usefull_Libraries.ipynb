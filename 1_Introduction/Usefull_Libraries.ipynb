{
  "nbformat": 4,
  "nbformat_minor": 0,
  "metadata": {
    "colab": {
      "name": "Usefull_Libraries.ipynb",
      "provenance": [],
      "toc_visible": true,
      "authorship_tag": "ABX9TyOPOZ2hnQzjww2sB6tgZoXd",
      "include_colab_link": true
    },
    "kernelspec": {
      "name": "python3",
      "display_name": "Python 3"
    },
    "language_info": {
      "name": "python"
    }
  },
  "cells": [
    {
      "cell_type": "markdown",
      "metadata": {
        "id": "view-in-github",
        "colab_type": "text"
      },
      "source": [
        "<a href=\"https://colab.research.google.com/github/juccaicedoac03/Data_Science_Course/blob/main/1_Introduction/Usefull_Libraries.ipynb\" target=\"_parent\"><img src=\"https://colab.research.google.com/assets/colab-badge.svg\" alt=\"Open In Colab\"/></a>"
      ]
    },
    {
      "cell_type": "markdown",
      "source": [
        "# Numpy"
      ],
      "metadata": {
        "id": "yRcJwPXeB_ns"
      }
    },
    {
      "cell_type": "code",
      "execution_count": 1,
      "metadata": {
        "id": "kSQhEgqaBw1n"
      },
      "outputs": [],
      "source": [
        "import numpy as np"
      ]
    },
    {
      "cell_type": "markdown",
      "source": [
        "## Lists vs Arrays"
      ],
      "metadata": {
        "id": "iERHKD-XCRqX"
      }
    },
    {
      "cell_type": "markdown",
      "source": [
        "### Lists"
      ],
      "metadata": {
        "id": "umKEtTyYLpdR"
      }
    },
    {
      "cell_type": "markdown",
      "source": [
        "Elements of a list can be of multiple type"
      ],
      "metadata": {
        "id": "XP3MrhFCHY1-"
      }
    },
    {
      "cell_type": "code",
      "source": [
        "list1 = [10, 4.2, 'Text'] # multiple types elements\n",
        "print('List: {}  Length: {}  Type: {}'.format(list1, len(list1), type(list1)))\n",
        "\n",
        "for elem in list1: # traversing list: elem take each list1 element alogn length of the list\n",
        "    print(' Element: {}, Type: {}'.format(elem,type(elem)))\n"
      ],
      "metadata": {
        "colab": {
          "base_uri": "https://localhost:8080/"
        },
        "id": "EYDl0XqUCDMH",
        "outputId": "0184927a-f9d9-4b48-9e73-0314cba9483c"
      },
      "execution_count": 25,
      "outputs": [
        {
          "output_type": "stream",
          "name": "stdout",
          "text": [
            "List: [10, 4.2, 'Text']  Length: 3  Type: <class 'list'>\n",
            " Element: 10, Type: <class 'int'>\n",
            " Element: 4.2, Type: <class 'float'>\n",
            " Element: Text, Type: <class 'str'>\n"
          ]
        }
      ]
    },
    {
      "cell_type": "markdown",
      "source": [
        "List is afected by python native functions and classes such as: len, range, etc"
      ],
      "metadata": {
        "id": "wYQI_0T_Inn3"
      }
    },
    {
      "cell_type": "code",
      "source": [
        "for elem in range(len(list1)): # traversing list: using indexing \"list[position]\"\n",
        "    print('Element: {}, Type: {}'.format(list1[elem],type(list1[elem])))"
      ],
      "metadata": {
        "colab": {
          "base_uri": "https://localhost:8080/"
        },
        "id": "eoBh6bHBHMgp",
        "outputId": "10c883fe-ba45-46df-d84a-6d758aa0eddc"
      },
      "execution_count": 15,
      "outputs": [
        {
          "output_type": "stream",
          "name": "stdout",
          "text": [
            "Element: 10, Type: <class 'int'>\n",
            "Element: 4.2, Type: <class 'float'>\n",
            "Element: Text, Type: <class 'str'>\n"
          ]
        }
      ]
    },
    {
      "cell_type": "markdown",
      "source": [
        "list indexing depends on number of elements and number of sublists"
      ],
      "metadata": {
        "id": "dmDANkJvMTw0"
      }
    },
    {
      "cell_type": "code",
      "source": [
        "list2 = [[1,2,3,4], [1.,2.,3.,4.],['one','two','three','four']]\n",
        "\n",
        "print('Length of list: {}'.format(len(list2)))\n",
        "\n",
        "for sublist in list2:\n",
        "    print(' Sublist: {}  Length: {}'.format(sublist, len(sublist)))\n",
        "    for elem in sublist:\n",
        "        print('  Elem: {}  Type: {}'.format(elem,type(elem)))"
      ],
      "metadata": {
        "colab": {
          "base_uri": "https://localhost:8080/"
        },
        "id": "WsJtaMyOMp-8",
        "outputId": "b18dfa39-f115-49db-ee8b-2303b4a0aaee"
      },
      "execution_count": 24,
      "outputs": [
        {
          "output_type": "stream",
          "name": "stdout",
          "text": [
            "Length of list: 3\n",
            " Sublist: [1, 2, 3, 4]  Length: 4\n",
            "  Elem: 1  Type: <class 'int'>\n",
            "  Elem: 2  Type: <class 'int'>\n",
            "  Elem: 3  Type: <class 'int'>\n",
            "  Elem: 4  Type: <class 'int'>\n",
            " Sublist: [1.0, 2.0, 3.0, 4.0]  Length: 4\n",
            "  Elem: 1.0  Type: <class 'float'>\n",
            "  Elem: 2.0  Type: <class 'float'>\n",
            "  Elem: 3.0  Type: <class 'float'>\n",
            "  Elem: 4.0  Type: <class 'float'>\n",
            " Sublist: ['one', 'two', 'three', 'four']  Length: 4\n",
            "  Elem: one  Type: <class 'str'>\n",
            "  Elem: two  Type: <class 'str'>\n",
            "  Elem: three  Type: <class 'str'>\n",
            "  Elem: four  Type: <class 'str'>\n"
          ]
        }
      ]
    },
    {
      "cell_type": "markdown",
      "source": [
        "list2 is a list of lists"
      ],
      "metadata": {
        "id": "Z6bUsu1deCnp"
      }
    },
    {
      "cell_type": "code",
      "source": [
        "print(list2)"
      ],
      "metadata": {
        "colab": {
          "base_uri": "https://localhost:8080/"
        },
        "id": "aVrYDnhMd66P",
        "outputId": "7838a504-b5b7-4e17-fca8-92c597fad6d5"
      },
      "execution_count": 28,
      "outputs": [
        {
          "output_type": "stream",
          "name": "stdout",
          "text": [
            "[[1, 2, 3, 4], [1.0, 2.0, 3.0, 4.0], ['one', 'two', 'three', 'four']]\n"
          ]
        }
      ]
    },
    {
      "cell_type": "markdown",
      "source": [
        "Lists in python can be indexing using intervals.\n",
        "\n",
        "NOTE: First position in Python is 0 and de last is n-1, with n <= lenght of list"
      ],
      "metadata": {
        "id": "9b4vzc3EgzkL"
      }
    },
    {
      "cell_type": "code",
      "source": [
        "print(list2[0:2])\n",
        "print(list2[2])\n",
        "print(list2[0][1:3])"
      ],
      "metadata": {
        "colab": {
          "base_uri": "https://localhost:8080/"
        },
        "id": "H9goWekugYQU",
        "outputId": "a19ec2e2-326b-4273-9edc-842355bee0c6"
      },
      "execution_count": 42,
      "outputs": [
        {
          "output_type": "stream",
          "name": "stdout",
          "text": [
            "[[1, 2, 3, 4], [1.0, 2.0, 3.0, 4.0]]\n",
            "['one', 'two', 'three', 'four']\n",
            "[2, 3]\n"
          ]
        }
      ]
    },
    {
      "cell_type": "markdown",
      "source": [
        "**Exercise:** complete next code cell to obtain the sublist **[3.0, 4.0] (float)** from list2"
      ],
      "metadata": {
        "id": "MYQqwu2BOJ3L"
      }
    },
    {
      "cell_type": "code",
      "source": [
        "print('Sublist: {}'.format( ))"
      ],
      "metadata": {
        "id": "ode9rOazkjuq"
      },
      "execution_count": null,
      "outputs": []
    },
    {
      "cell_type": "markdown",
      "source": [
        "**Exercise:** traverse list2 using list indexing"
      ],
      "metadata": {
        "id": "KRyaX6FxPWfE"
      }
    },
    {
      "cell_type": "code",
      "source": [
        ""
      ],
      "metadata": {
        "id": "P_0f8m5EPlyw"
      },
      "execution_count": null,
      "outputs": []
    },
    {
      "cell_type": "markdown",
      "source": [
        "***Important information:*** [Python list methods](https://docs.python.org/3/tutorial/datastructures.html)"
      ],
      "metadata": {
        "id": "l32f_Z94sKmv"
      }
    },
    {
      "cell_type": "markdown",
      "source": [
        "### Arrays"
      ],
      "metadata": {
        "id": "-cQ6oLtQLuh0"
      }
    },
    {
      "cell_type": "markdown",
      "source": [
        "Elements of an array must be of the same type"
      ],
      "metadata": {
        "id": "96i2pjZyHtpt"
      }
    },
    {
      "cell_type": "code",
      "source": [
        "array1 = np.array(list1) # multiple elements with the same type\n",
        "print('Array: {}  Shape: {}  Type: {}'.format(array1, array1.shape, type(array1)))\n",
        "\n",
        "for elem in array1: # traversing array: elem take each array1 element alogn an axis of the array\n",
        "    print('Element: {}, Type: {}'.format(elem,type(elem)))"
      ],
      "metadata": {
        "colab": {
          "base_uri": "https://localhost:8080/"
        },
        "id": "W5NVXyqZDFch",
        "outputId": "cf2a4ee2-2c30-4c9e-9191-806b14fc6fef"
      },
      "execution_count": 13,
      "outputs": [
        {
          "output_type": "stream",
          "name": "stdout",
          "text": [
            "Array: ['10' '4.2' 'Text']  Shape: (3,)  Type: <class 'numpy.ndarray'>\n",
            "Element: 10, Type: <class 'numpy.str_'>\n",
            "Element: 4.2, Type: <class 'numpy.str_'>\n",
            "Element: Text, Type: <class 'numpy.str_'>\n"
          ]
        }
      ]
    },
    {
      "cell_type": "markdown",
      "source": [
        "Arrays inherit attributes from [numpy N-dimensional array base class](https://numpy.org/doc/stable/reference/arrays.ndarray.html) like: shape."
      ],
      "metadata": {
        "id": "IZM7En6RJdOb"
      }
    },
    {
      "cell_type": "code",
      "source": [
        "for elem in range(array1.shape[0]): # traversing array: using indexing \"array[position_axis0, position_axis1, ...]\"\n",
        "    print('Element: {}, Type: {}'.format(array1[elem],type(array1[elem])))"
      ],
      "metadata": {
        "colab": {
          "base_uri": "https://localhost:8080/"
        },
        "id": "h72L1cObJFiV",
        "outputId": "83e71a18-0c99-447e-e8ae-7ea072c03b5b"
      },
      "execution_count": 21,
      "outputs": [
        {
          "output_type": "stream",
          "name": "stdout",
          "text": [
            "Element: 10, Type: <class 'numpy.str_'>\n",
            "Element: 4.2, Type: <class 'numpy.str_'>\n",
            "Element: Text, Type: <class 'numpy.str_'>\n"
          ]
        }
      ]
    },
    {
      "cell_type": "markdown",
      "source": [
        "Array indexing depends on number of elements and the number of axis"
      ],
      "metadata": {
        "id": "GxitumqrQfcZ"
      }
    },
    {
      "cell_type": "code",
      "source": [
        "array2 = np.array([[1,2,3,4], [5,6,7,8],[9,10,11,12]])\n",
        "\n",
        "print('Shape of array: {}'.format(array2.shape))\n",
        "\n",
        "for elem_ax0 in range(array2.shape[0]):\n",
        "    for elem_ax1 in range(array2.shape[1]):\n",
        "        print('Axis0 pos: {}  Axis1 pos: {}  Element: {}'.format(elem_ax0,elem_ax1,array2[elem_ax0,elem_ax1]))"
      ],
      "metadata": {
        "colab": {
          "base_uri": "https://localhost:8080/"
        },
        "id": "9Xc41L4LJYjz",
        "outputId": "65d6ff55-86c3-4740-b437-4eec77f0f2ec"
      },
      "execution_count": 27,
      "outputs": [
        {
          "output_type": "stream",
          "name": "stdout",
          "text": [
            "Shape of array: (3, 4)\n",
            "Axis0 pos: 0  Axis1 pos: 0  Element: 1\n",
            "Axis0 pos: 0  Axis1 pos: 1  Element: 2\n",
            "Axis0 pos: 0  Axis1 pos: 2  Element: 3\n",
            "Axis0 pos: 0  Axis1 pos: 3  Element: 4\n",
            "Axis0 pos: 1  Axis1 pos: 0  Element: 5\n",
            "Axis0 pos: 1  Axis1 pos: 1  Element: 6\n",
            "Axis0 pos: 1  Axis1 pos: 2  Element: 7\n",
            "Axis0 pos: 1  Axis1 pos: 3  Element: 8\n",
            "Axis0 pos: 2  Axis1 pos: 0  Element: 9\n",
            "Axis0 pos: 2  Axis1 pos: 1  Element: 10\n",
            "Axis0 pos: 2  Axis1 pos: 2  Element: 11\n",
            "Axis0 pos: 2  Axis1 pos: 3  Element: 12\n"
          ]
        }
      ]
    },
    {
      "cell_type": "markdown",
      "source": [
        "array2 can be seen as a matrix of 3 rows and 4 columns"
      ],
      "metadata": {
        "id": "U4vVznzaemy0"
      }
    },
    {
      "cell_type": "code",
      "source": [
        "print('Rows: {}  Columns:  {} \\n'.format(array2.shape[0],array2.shape[1]))\n",
        "print(array2)"
      ],
      "metadata": {
        "colab": {
          "base_uri": "https://localhost:8080/"
        },
        "id": "S2isK1pARU1F",
        "outputId": "233babd1-1c0d-4660-fa1e-bc70ddd4a811"
      },
      "execution_count": 33,
      "outputs": [
        {
          "output_type": "stream",
          "name": "stdout",
          "text": [
            "Rows: 3  Columns:  4 \n",
            "\n",
            "[[ 1  2  3  4]\n",
            " [ 5  6  7  8]\n",
            " [ 9 10 11 12]]\n"
          ]
        }
      ]
    },
    {
      "cell_type": "markdown",
      "source": [
        "Array indexing is similar to list indexing, taking acount the axis: **array[position_axis0, position_axis1, ...]**"
      ],
      "metadata": {
        "id": "xBz5Hb3PiGli"
      }
    },
    {
      "cell_type": "code",
      "source": [
        "print(array2[1,1:3])\n",
        "print(array2[0,3])\n",
        "print(array2[-1,:])\n",
        "print(array2[2,-4:-1])"
      ],
      "metadata": {
        "colab": {
          "base_uri": "https://localhost:8080/"
        },
        "id": "9vlnrtG4fOcg",
        "outputId": "b90e0029-c792-48ab-9518-62ed069753dc"
      },
      "execution_count": 54,
      "outputs": [
        {
          "output_type": "stream",
          "name": "stdout",
          "text": [
            "[6 7]\n",
            "4\n",
            "[ 9 10 11 12]\n",
            "[ 9 10 11]\n"
          ]
        }
      ]
    },
    {
      "cell_type": "markdown",
      "source": [
        "**Exercise:** complete netx code celL to obtain the subarray: [7,11]"
      ],
      "metadata": {
        "id": "8Nqg7iDajJqp"
      }
    },
    {
      "cell_type": "code",
      "source": [
        "print('Subarray: {}'.format( ))"
      ],
      "metadata": {
        "id": "0sbD-KBZir9t"
      },
      "execution_count": null,
      "outputs": []
    },
    {
      "cell_type": "markdown",
      "source": [
        "**Exercise:** write a code that show all elements of each columns in array2 as sub-arrays\n",
        "\n",
        "Output: \n",
        "\n",
        "*   Iter 0: [1, 5, 9]\n",
        "*   Iter 1: [2, 6, 10]\n",
        "*   Iter 2: [3, 7, 11]\n",
        "*   Iter 3: [4, 8, 12]\n",
        "\n"
      ],
      "metadata": {
        "id": "403DGrN8ksu8"
      }
    },
    {
      "cell_type": "code",
      "source": [
        ""
      ],
      "metadata": {
        "id": "yOLggwx_ksbE"
      },
      "execution_count": null,
      "outputs": []
    },
    {
      "cell_type": "markdown",
      "source": [
        "Some Numpy functionalities"
      ],
      "metadata": {
        "id": "CMxmymHdpDzW"
      }
    },
    {
      "cell_type": "code",
      "source": [
        "print('Mean: {}\\n'.format(array2.mean(axis=-1))) # function np.mean can be used as attribute\n",
        "print('Median: {}\\n'.format(np.median(array2))) # total mean use first array.ravel()\n",
        "print('Eigen values and eigen vectors:\\n {}\\n'.format(np.linalg.eig(array2[:,0:3]))) \n",
        "print('Trace: {}\\n'.format(np.trace(array2[:,0:3])))\n",
        "print('Transpose: \\n{}\\n'.format(array2.T))\n",
        "print('Random arrays: \\n{}'.format(np.random.randn(1,10)))"
      ],
      "metadata": {
        "colab": {
          "base_uri": "https://localhost:8080/"
        },
        "id": "PQgGa1_NpG_S",
        "outputId": "6701d03e-3e73-4a6a-b999-1ddfe9e505ef"
      },
      "execution_count": 64,
      "outputs": [
        {
          "output_type": "stream",
          "name": "stdout",
          "text": [
            "Mean: [ 2.5  6.5 10.5]\n",
            "\n",
            "Median: 6.5\n",
            "\n",
            "Eigen values and eigen vectors:\n",
            " (array([ 1.92469508e+01, -1.24695077e+00,  9.34268442e-17]), array([[ 0.1937289 ,  0.77433837,  0.40824829],\n",
            "       [ 0.51451855,  0.07288936, -0.81649658],\n",
            "       [ 0.83530819, -0.62855964,  0.40824829]]))\n",
            "\n",
            "Trace: 18\n",
            "\n",
            "Transpose: \n",
            "[[ 1  5  9]\n",
            " [ 2  6 10]\n",
            " [ 3  7 11]\n",
            " [ 4  8 12]]\n",
            "\n",
            "Random arrays: \n",
            "[[-0.37571999  1.45048052 -1.77910902 -1.63717443 -0.49655937 -0.61223343\n",
            "   1.73612985  0.05476446  1.22793203 -1.21482395]]\n"
          ]
        }
      ]
    },
    {
      "cell_type": "markdown",
      "source": [
        "**Exercise:** write a code to transpose the matrix from lists without use ***np.transpose()*** or ***array.T***"
      ],
      "metadata": {
        "id": "CD1nMc1bsmJC"
      }
    },
    {
      "cell_type": "code",
      "source": [
        "# Input\n",
        "list3 = [[1,2,3],[4,5,6],[7,8,9]]\n",
        "\n",
        "# Write code here: \n",
        "\n",
        "\n",
        "######################\n",
        "\n",
        "print('Input: \\n{}\\n'.format(list3))\n",
        "print('Output: \\n{}\\n'.format(list(map(list,np.transpose(list3)))))\n",
        "\n",
        "# complete the code here\n",
        "print('Your Output: \\n{}'.format( ))"
      ],
      "metadata": {
        "colab": {
          "base_uri": "https://localhost:8080/"
        },
        "id": "SwDB-FXBqZU1",
        "outputId": "94d91202-dd7e-4926-e11c-46fcf4e26cca"
      },
      "execution_count": 74,
      "outputs": [
        {
          "output_type": "stream",
          "name": "stdout",
          "text": [
            "Input: \n",
            "[[1, 2, 3], [4, 5, 6], [7, 8, 9]]\n",
            "\n",
            "Output: \n",
            "[[1, 4, 7], [2, 5, 8], [3, 6, 9]]\n",
            "\n"
          ]
        }
      ]
    },
    {
      "cell_type": "markdown",
      "source": [
        "See complete documentation [here.](https://numpy.org)"
      ],
      "metadata": {
        "id": "1Ji54Fjl74yr"
      }
    },
    {
      "cell_type": "markdown",
      "source": [
        "# Matplotlib "
      ],
      "metadata": {
        "id": "MGbPCVDxwL6z"
      }
    },
    {
      "cell_type": "code",
      "source": [
        "import numpy as np\n",
        "import matplotlib.pyplot as plt"
      ],
      "metadata": {
        "id": "7LAyspKityHN"
      },
      "execution_count": 75,
      "outputs": []
    },
    {
      "cell_type": "code",
      "source": [
        "y = np.random.randn(20,100)\n",
        "x = np.arange(y.shape[-1])"
      ],
      "metadata": {
        "id": "TkGOo0V1wYsi"
      },
      "execution_count": 96,
      "outputs": []
    },
    {
      "cell_type": "code",
      "source": [
        "plt.figure(figsize=(20,5))\n",
        "plt.title('Figure 1')\n",
        "plt.plot(y[0:2,:].T,label='label 1')\n",
        "plt.plot(y[6:8,:].T,label='label 2')\n",
        "plt.xticks(np.arange(y.shape[-1]),x+1, rotation = 90)\n",
        "plt.legend()\n",
        "plt.grid(True)\n",
        "plt.show()"
      ],
      "metadata": {
        "colab": {
          "base_uri": "https://localhost:8080/",
          "height": 332
        },
        "id": "c7r0Qpetxkl5",
        "outputId": "d5eb4eaa-bb84-4a10-dea6-469d8af50c6a"
      },
      "execution_count": 97,
      "outputs": [
        {
          "output_type": "display_data",
          "data": {
            "text/plain": [
              "<Figure size 1440x360 with 1 Axes>"
            ],
            "image/png": "[encoded data removed]"
          },
          "metadata": {
            "needs_background": "light"
          }
        }
      ]
    },
    {
      "cell_type": "code",
      "source": [
        "plt.figure(figsize=(20,5))\n",
        "plt.title('Figure 2')\n",
        "plt.bar(x, np.abs(y[10,:].T), width=1, edgecolor=\"white\", linewidth=0.7, label = 'Label 1')\n",
        "plt.xticks(np.arange(y.shape[-1]),x+1, rotation = 90)\n",
        "plt.legend()\n",
        "plt.grid(True)\n",
        "plt.show()"
      ],
      "metadata": {
        "colab": {
          "base_uri": "https://localhost:8080/",
          "height": 332
        },
        "id": "u4fT4YjMxlIs",
        "outputId": "a89c1d56-6a7a-4c76-9cc2-78273e265fe2"
      },
      "execution_count": 109,
      "outputs": [
        {
          "output_type": "display_data",
          "data": {
            "text/plain": [
              "<Figure size 1440x360 with 1 Axes>"
            ],
            "image/png": "[encoded data removed]"
          },
          "metadata": {
            "needs_background": "light"
          }
        }
      ]
    },
    {
      "cell_type": "code",
      "source": [
        "plt.figure(figsize=(15,5))\n",
        "plt.subplot(1,2,1)\n",
        "plt.title('Figure 3')\n",
        "plt.scatter(y[12,:],y[13,:])\n",
        "\n",
        "plt.subplot(1,2,2)\n",
        "plt.title('Figure 4')\n",
        "plt.scatter(y[16,:],y[17,:], label= 'Label 1')\n",
        "plt.scatter(y[18,:],y[19,:], label= 'Label 2')\n",
        "plt.legend()\n",
        "\n",
        "plt.show()"
      ],
      "metadata": {
        "colab": {
          "base_uri": "https://localhost:8080/",
          "height": 336
        },
        "id": "r9G5sOTD04fT",
        "outputId": "3f24dca6-5c86-4435-cf5d-52d7d8ab3ae8"
      },
      "execution_count": 123,
      "outputs": [
        {
          "output_type": "display_data",
          "data": {
            "text/plain": [
              "<Figure size 1080x360 with 2 Axes>"
            ],
            "image/png": "[encoded data removed]"
          },
          "metadata": {
            "needs_background": "light"
          }
        }
      ]
    },
    {
      "cell_type": "markdown",
      "source": [
        "See complete documentation [here.](https://matplotlib.org)\n"
      ],
      "metadata": {
        "id": "HFRHmC505pXE"
      }
    },
    {
      "cell_type": "markdown",
      "source": [
        "# Pandas"
      ],
      "metadata": {
        "id": "vUqfS5Zz6x9H"
      }
    },
    {
      "cell_type": "code",
      "source": [
        "import numpy as np\n",
        "import pandas as pd"
      ],
      "metadata": {
        "id": "9ytdpVBr4N1W"
      },
      "execution_count": 124,
      "outputs": []
    },
    {
      "cell_type": "code",
      "source": [
        "dict1 = dict([('key 1',np.arange(10)),('key 2',2*np.arange(10)),('key 3',(3*np.arange(10)).astype(str))])"
      ],
      "metadata": {
        "id": "y0HH-PGB6-R-"
      },
      "execution_count": 137,
      "outputs": []
    },
    {
      "cell_type": "code",
      "source": [
        "print(dict1)"
      ],
      "metadata": {
        "colab": {
          "base_uri": "https://localhost:8080/"
        },
        "id": "NX65LFO59Mv4",
        "outputId": "5ad46b2b-cfcf-41bd-bbe1-7567091c2490"
      },
      "execution_count": 138,
      "outputs": [
        {
          "output_type": "stream",
          "name": "stdout",
          "text": [
            "{'key 1': array([0, 1, 2, 3, 4, 5, 6, 7, 8, 9]), 'key 2': array([ 0,  2,  4,  6,  8, 10, 12, 14, 16, 18]), 'key 3': array(['0', '3', '6', '9', '12', '15', '18', '21', '24', '27'],\n",
            "      dtype='<U21')}\n"
          ]
        }
      ]
    },
    {
      "cell_type": "code",
      "source": [
        "df1 = pd.DataFrame(dict1)"
      ],
      "metadata": {
        "id": "OvxLxv6T9ADY"
      },
      "execution_count": 139,
      "outputs": []
    },
    {
      "cell_type": "code",
      "source": [
        "df1"
      ],
      "metadata": {
        "colab": {
          "base_uri": "https://localhost:8080/",
          "height": 359
        },
        "id": "qzcmr_1B_BnR",
        "outputId": "cf4011ba-3acc-4efa-e17d-b2b08db44e15"
      },
      "execution_count": 140,
      "outputs": [
        {
          "output_type": "execute_result",
          "data": {
            "text/plain": [
              "   key 1  key 2 key 3\n",
              "0      0      0     0\n",
              "1      1      2     3\n",
              "2      2      4     6\n",
              "3      3      6     9\n",
              "4      4      8    12\n",
              "5      5     10    15\n",
              "6      6     12    18\n",
              "7      7     14    21\n",
              "8      8     16    24\n",
              "9      9     18    27"
            ],
            "text/html": [
              "\n",
              "  <div id=\"df-c0e441f1-7674-40e1-8e3b-5535eeb174e0\">\n",
              "    <div class=\"colab-df-container\">\n",
              "      <div>\n",
              "<style scoped>\n",
              "    .dataframe tbody tr th:only-of-type {\n",
              "        vertical-align: middle;\n",
              "    }\n",
              "\n",
              "    .dataframe tbody tr th {\n",
              "        vertical-align: top;\n",
              "    }\n",
              "\n",
              "    .dataframe thead th {\n",
              "        text-align: right;\n",
              "    }\n",
              "</style>\n",
              "<table border=\"1\" class=\"dataframe\">\n",
              "  <thead>\n",
              "    <tr style=\"text-align: right;\">\n",
              "      <th></th>\n",
              "      <th>key 1</th>\n",
              "      <th>key 2</th>\n",
              "      <th>key 3</th>\n",
              "    </tr>\n",
              "  </thead>\n",
              "  <tbody>\n",
              "    <tr>\n",
              "      <th>0</th>\n",
              "      <td>0</td>\n",
              "      <td>0</td>\n",
              "      <td>0</td>\n",
              "    </tr>\n",
              "    <tr>\n",
              "      <th>1</th>\n",
              "      <td>1</td>\n",
              "      <td>2</td>\n",
              "      <td>3</td>\n",
              "    </tr>\n",
              "    <tr>\n",
              "      <th>2</th>\n",
              "      <td>2</td>\n",
              "      <td>4</td>\n",
              "      <td>6</td>\n",
              "    </tr>\n",
              "    <tr>\n",
              "      <th>3</th>\n",
              "      <td>3</td>\n",
              "      <td>6</td>\n",
              "      <td>9</td>\n",
              "    </tr>\n",
              "    <tr>\n",
              "      <th>4</th>\n",
              "      <td>4</td>\n",
              "      <td>8</td>\n",
              "      <td>12</td>\n",
              "    </tr>\n",
              "    <tr>\n",
              "      <th>5</th>\n",
              "      <td>5</td>\n",
              "      <td>10</td>\n",
              "      <td>15</td>\n",
              "    </tr>\n",
              "    <tr>\n",
              "      <th>6</th>\n",
              "      <td>6</td>\n",
              "      <td>12</td>\n",
              "      <td>18</td>\n",
              "    </tr>\n",
              "    <tr>\n",
              "      <th>7</th>\n",
              "      <td>7</td>\n",
              "      <td>14</td>\n",
              "      <td>21</td>\n",
              "    </tr>\n",
              "    <tr>\n",
              "      <th>8</th>\n",
              "      <td>8</td>\n",
              "      <td>16</td>\n",
              "      <td>24</td>\n",
              "    </tr>\n",
              "    <tr>\n",
              "      <th>9</th>\n",
              "      <td>9</td>\n",
              "      <td>18</td>\n",
              "      <td>27</td>\n",
              "    </tr>\n",
              "  </tbody>\n",
              "</table>\n",
              "</div>\n",
              "      <button class=\"colab-df-convert\" onclick=\"convertToInteractive('df-c0e441f1-7674-40e1-8e3b-5535eeb174e0')\"\n",
              "              title=\"Convert this dataframe to an interactive table.\"\n",
              "              style=\"display:none;\">\n",
              "        \n",
              "  <svg xmlns=\"http://www.w3.org/2000/svg\" height=\"24px\"viewBox=\"0 0 24 24\"\n",
              "       width=\"24px\">\n",
              "    <path d=\"M0 0h24v24H0V0z\" fill=\"none\"/>\n",
              "    <path d=\"M18.56 5.44l.94 2.06.94-2.06 2.06-.94-2.06-.94-.94-2.06-.94 2.06-2.06.94zm-11 1L8.5 8.5l.94-2.06 2.06-.94-2.06-.94L8.5 2.5l-.94 2.06-2.06.94zm10 10l.94 2.06.94-2.06 2.06-.94-2.06-.94-.94-2.06-.94 2.06-2.06.94z\"/><path d=\"M17.41 7.96l-1.37-1.37c-.4-.4-.92-.59-1.43-.59-.52 0-1.04.2-1.43.59L10.3 9.45l-7.72 7.72c-.78.78-.78 2.05 0 2.83L4 21.41c.39.39.9.59 1.41.59.51 0 1.02-.2 1.41-.59l7.78-7.78 2.81-2.81c.8-.78.8-2.07 0-2.86zM5.41 20L4 18.59l7.72-7.72 1.47 1.35L5.41 20z\"/>\n",
              "  </svg>\n",
              "      </button>\n",
              "      \n",
              "  <style>\n",
              "    .colab-df-container {\n",
              "      display:flex;\n",
              "      flex-wrap:wrap;\n",
              "      gap: 12px;\n",
              "    }\n",
              "\n",
              "    .colab-df-convert {\n",
              "      background-color: #E8F0FE;\n",
              "      border: none;\n",
              "      border-radius: 50%;\n",
              "      cursor: pointer;\n",
              "      display: none;\n",
              "      fill: #1967D2;\n",
              "      height: 32px;\n",
              "      padding: 0 0 0 0;\n",
              "      width: 32px;\n",
              "    }\n",
              "\n",
              "    .colab-df-convert:hover {\n",
              "      background-color: #E2EBFA;\n",
              "      box-shadow: 0px 1px 2px rgba(60, 64, 67, 0.3), 0px 1px 3px 1px rgba(60, 64, 67, 0.15);\n",
              "      fill: #174EA6;\n",
              "    }\n",
              "\n",
              "    [theme=dark] .colab-df-convert {\n",
              "      background-color: #3B4455;\n",
              "      fill: #D2E3FC;\n",
              "    }\n",
              "\n",
              "    [theme=dark] .colab-df-convert:hover {\n",
              "      background-color: #434B5C;\n",
              "      box-shadow: 0px 1px 3px 1px rgba(0, 0, 0, 0.15);\n",
              "      filter: drop-shadow(0px 1px 2px rgba(0, 0, 0, 0.3));\n",
              "      fill: #FFFFFF;\n",
              "    }\n",
              "  </style>\n",
              "\n",
              "      <script>\n",
              "        const buttonEl =\n",
              "          document.querySelector('#df-c0e441f1-7674-40e1-8e3b-5535eeb174e0 button.colab-df-convert');\n",
              "        buttonEl.style.display =\n",
              "          google.colab.kernel.accessAllowed ? 'block' : 'none';\n",
              "\n",
              "        async function convertToInteractive(key) {\n",
              "          const element = document.querySelector('#df-c0e441f1-7674-40e1-8e3b-5535eeb174e0');\n",
              "          const dataTable =\n",
              "            await google.colab.kernel.invokeFunction('convertToInteractive',\n",
              "                                                     [key], {});\n",
              "          if (!dataTable) return;\n",
              "\n",
              "          const docLinkHtml = 'Like what you see? Visit the ' +\n",
              "            '<a target=\"_blank\" href=https://colab.research.google.com/notebooks/data_table.ipynb>data table notebook</a>'\n",
              "            + ' to learn more about interactive tables.';\n",
              "          element.innerHTML = '';\n",
              "          dataTable['output_type'] = 'display_data';\n",
              "          await google.colab.output.renderOutput(dataTable, element);\n",
              "          const docLink = document.createElement('div');\n",
              "          docLink.innerHTML = docLinkHtml;\n",
              "          element.appendChild(docLink);\n",
              "        }\n",
              "      </script>\n",
              "    </div>\n",
              "  </div>\n",
              "  "
            ]
          },
          "metadata": {},
          "execution_count": 140
        }
      ]
    },
    {
      "cell_type": "markdown",
      "source": [
        "## DataFrame"
      ],
      "metadata": {
        "id": "G4iGyQW6-59x"
      }
    },
    {
      "cell_type": "code",
      "source": [
        "df1.index[0] # row index"
      ],
      "metadata": {
        "colab": {
          "base_uri": "https://localhost:8080/"
        },
        "id": "8i-qWccq9C2c",
        "outputId": "3e82b33e-44f8-4fa5-d2f0-39da1a73d4bd"
      },
      "execution_count": 141,
      "outputs": [
        {
          "output_type": "execute_result",
          "data": {
            "text/plain": [
              "0"
            ]
          },
          "metadata": {},
          "execution_count": 141
        }
      ]
    },
    {
      "cell_type": "markdown",
      "source": [
        "Use lists to indexing DataFrame by rows (index) and columns (keys) "
      ],
      "metadata": {
        "id": "WCx_KC0z_l7D"
      }
    },
    {
      "cell_type": "code",
      "source": [
        "df1.loc[[1,4,6],['key 1','key 3']]"
      ],
      "metadata": {
        "colab": {
          "base_uri": "https://localhost:8080/",
          "height": 142
        },
        "id": "N-75Yf_5_H68",
        "outputId": "a6be5280-cd32-42f3-ba32-cef2fb7a27c9"
      },
      "execution_count": 142,
      "outputs": [
        {
          "output_type": "execute_result",
          "data": {
            "text/plain": [
              "   key 1 key 3\n",
              "1      1     3\n",
              "4      4    12\n",
              "6      6    18"
            ],
            "text/html": [
              "\n",
              "  <div id=\"df-68c2f3b5-1f54-48fb-9c95-f1eddcc0a1a1\">\n",
              "    <div class=\"colab-df-container\">\n",
              "      <div>\n",
              "<style scoped>\n",
              "    .dataframe tbody tr th:only-of-type {\n",
              "        vertical-align: middle;\n",
              "    }\n",
              "\n",
              "    .dataframe tbody tr th {\n",
              "        vertical-align: top;\n",
              "    }\n",
              "\n",
              "    .dataframe thead th {\n",
              "        text-align: right;\n",
              "    }\n",
              "</style>\n",
              "<table border=\"1\" class=\"dataframe\">\n",
              "  <thead>\n",
              "    <tr style=\"text-align: right;\">\n",
              "      <th></th>\n",
              "      <th>key 1</th>\n",
              "      <th>key 3</th>\n",
              "    </tr>\n",
              "  </thead>\n",
              "  <tbody>\n",
              "    <tr>\n",
              "      <th>1</th>\n",
              "      <td>1</td>\n",
              "      <td>3</td>\n",
              "    </tr>\n",
              "    <tr>\n",
              "      <th>4</th>\n",
              "      <td>4</td>\n",
              "      <td>12</td>\n",
              "    </tr>\n",
              "    <tr>\n",
              "      <th>6</th>\n",
              "      <td>6</td>\n",
              "      <td>18</td>\n",
              "    </tr>\n",
              "  </tbody>\n",
              "</table>\n",
              "</div>\n",
              "      <button class=\"colab-df-convert\" onclick=\"convertToInteractive('df-68c2f3b5-1f54-48fb-9c95-f1eddcc0a1a1')\"\n",
              "              title=\"Convert this dataframe to an interactive table.\"\n",
              "              style=\"display:none;\">\n",
              "        \n",
              "  <svg xmlns=\"http://www.w3.org/2000/svg\" height=\"24px\"viewBox=\"0 0 24 24\"\n",
              "       width=\"24px\">\n",
              "    <path d=\"M0 0h24v24H0V0z\" fill=\"none\"/>\n",
              "    <path d=\"M18.56 5.44l.94 2.06.94-2.06 2.06-.94-2.06-.94-.94-2.06-.94 2.06-2.06.94zm-11 1L8.5 8.5l.94-2.06 2.06-.94-2.06-.94L8.5 2.5l-.94 2.06-2.06.94zm10 10l.94 2.06.94-2.06 2.06-.94-2.06-.94-.94-2.06-.94 2.06-2.06.94z\"/><path d=\"M17.41 7.96l-1.37-1.37c-.4-.4-.92-.59-1.43-.59-.52 0-1.04.2-1.43.59L10.3 9.45l-7.72 7.72c-.78.78-.78 2.05 0 2.83L4 21.41c.39.39.9.59 1.41.59.51 0 1.02-.2 1.41-.59l7.78-7.78 2.81-2.81c.8-.78.8-2.07 0-2.86zM5.41 20L4 18.59l7.72-7.72 1.47 1.35L5.41 20z\"/>\n",
              "  </svg>\n",
              "      </button>\n",
              "      \n",
              "  <style>\n",
              "    .colab-df-container {\n",
              "      display:flex;\n",
              "      flex-wrap:wrap;\n",
              "      gap: 12px;\n",
              "    }\n",
              "\n",
              "    .colab-df-convert {\n",
              "      background-color: #E8F0FE;\n",
              "      border: none;\n",
              "      border-radius: 50%;\n",
              "      cursor: pointer;\n",
              "      display: none;\n",
              "      fill: #1967D2;\n",
              "      height: 32px;\n",
              "      padding: 0 0 0 0;\n",
              "      width: 32px;\n",
              "    }\n",
              "\n",
              "    .colab-df-convert:hover {\n",
              "      background-color: #E2EBFA;\n",
              "      box-shadow: 0px 1px 2px rgba(60, 64, 67, 0.3), 0px 1px 3px 1px rgba(60, 64, 67, 0.15);\n",
              "      fill: #174EA6;\n",
              "    }\n",
              "\n",
              "    [theme=dark] .colab-df-convert {\n",
              "      background-color: #3B4455;\n",
              "      fill: #D2E3FC;\n",
              "    }\n",
              "\n",
              "    [theme=dark] .colab-df-convert:hover {\n",
              "      background-color: #434B5C;\n",
              "      box-shadow: 0px 1px 3px 1px rgba(0, 0, 0, 0.15);\n",
              "      filter: drop-shadow(0px 1px 2px rgba(0, 0, 0, 0.3));\n",
              "      fill: #FFFFFF;\n",
              "    }\n",
              "  </style>\n",
              "\n",
              "      <script>\n",
              "        const buttonEl =\n",
              "          document.querySelector('#df-68c2f3b5-1f54-48fb-9c95-f1eddcc0a1a1 button.colab-df-convert');\n",
              "        buttonEl.style.display =\n",
              "          google.colab.kernel.accessAllowed ? 'block' : 'none';\n",
              "\n",
              "        async function convertToInteractive(key) {\n",
              "          const element = document.querySelector('#df-68c2f3b5-1f54-48fb-9c95-f1eddcc0a1a1');\n",
              "          const dataTable =\n",
              "            await google.colab.kernel.invokeFunction('convertToInteractive',\n",
              "                                                     [key], {});\n",
              "          if (!dataTable) return;\n",
              "\n",
              "          const docLinkHtml = 'Like what you see? Visit the ' +\n",
              "            '<a target=\"_blank\" href=https://colab.research.google.com/notebooks/data_table.ipynb>data table notebook</a>'\n",
              "            + ' to learn more about interactive tables.';\n",
              "          element.innerHTML = '';\n",
              "          dataTable['output_type'] = 'display_data';\n",
              "          await google.colab.output.renderOutput(dataTable, element);\n",
              "          const docLink = document.createElement('div');\n",
              "          docLink.innerHTML = docLinkHtml;\n",
              "          element.appendChild(docLink);\n",
              "        }\n",
              "      </script>\n",
              "    </div>\n",
              "  </div>\n",
              "  "
            ]
          },
          "metadata": {},
          "execution_count": 142
        }
      ]
    },
    {
      "cell_type": "code",
      "source": [
        "df1.loc[df1.index[[0,2,4]]] # by rows"
      ],
      "metadata": {
        "colab": {
          "base_uri": "https://localhost:8080/",
          "height": 142
        },
        "id": "GZrELFDn_hnR",
        "outputId": "638351d9-14b0-4ccb-868d-b5239d4a12e6"
      },
      "execution_count": 147,
      "outputs": [
        {
          "output_type": "execute_result",
          "data": {
            "text/plain": [
              "   key 1  key 2 key 3\n",
              "0      0      0     0\n",
              "2      2      4     6\n",
              "4      4      8    12"
            ],
            "text/html": [
              "\n",
              "  <div id=\"df-98d5c5d2-9bec-4d21-b26d-708c992e6088\">\n",
              "    <div class=\"colab-df-container\">\n",
              "      <div>\n",
              "<style scoped>\n",
              "    .dataframe tbody tr th:only-of-type {\n",
              "        vertical-align: middle;\n",
              "    }\n",
              "\n",
              "    .dataframe tbody tr th {\n",
              "        vertical-align: top;\n",
              "    }\n",
              "\n",
              "    .dataframe thead th {\n",
              "        text-align: right;\n",
              "    }\n",
              "</style>\n",
              "<table border=\"1\" class=\"dataframe\">\n",
              "  <thead>\n",
              "    <tr style=\"text-align: right;\">\n",
              "      <th></th>\n",
              "      <th>key 1</th>\n",
              "      <th>key 2</th>\n",
              "      <th>key 3</th>\n",
              "    </tr>\n",
              "  </thead>\n",
              "  <tbody>\n",
              "    <tr>\n",
              "      <th>0</th>\n",
              "      <td>0</td>\n",
              "      <td>0</td>\n",
              "      <td>0</td>\n",
              "    </tr>\n",
              "    <tr>\n",
              "      <th>2</th>\n",
              "      <td>2</td>\n",
              "      <td>4</td>\n",
              "      <td>6</td>\n",
              "    </tr>\n",
              "    <tr>\n",
              "      <th>4</th>\n",
              "      <td>4</td>\n",
              "      <td>8</td>\n",
              "      <td>12</td>\n",
              "    </tr>\n",
              "  </tbody>\n",
              "</table>\n",
              "</div>\n",
              "      <button class=\"colab-df-convert\" onclick=\"convertToInteractive('df-98d5c5d2-9bec-4d21-b26d-708c992e6088')\"\n",
              "              title=\"Convert this dataframe to an interactive table.\"\n",
              "              style=\"display:none;\">\n",
              "        \n",
              "  <svg xmlns=\"http://www.w3.org/2000/svg\" height=\"24px\"viewBox=\"0 0 24 24\"\n",
              "       width=\"24px\">\n",
              "    <path d=\"M0 0h24v24H0V0z\" fill=\"none\"/>\n",
              "    <path d=\"M18.56 5.44l.94 2.06.94-2.06 2.06-.94-2.06-.94-.94-2.06-.94 2.06-2.06.94zm-11 1L8.5 8.5l.94-2.06 2.06-.94-2.06-.94L8.5 2.5l-.94 2.06-2.06.94zm10 10l.94 2.06.94-2.06 2.06-.94-2.06-.94-.94-2.06-.94 2.06-2.06.94z\"/><path d=\"M17.41 7.96l-1.37-1.37c-.4-.4-.92-.59-1.43-.59-.52 0-1.04.2-1.43.59L10.3 9.45l-7.72 7.72c-.78.78-.78 2.05 0 2.83L4 21.41c.39.39.9.59 1.41.59.51 0 1.02-.2 1.41-.59l7.78-7.78 2.81-2.81c.8-.78.8-2.07 0-2.86zM5.41 20L4 18.59l7.72-7.72 1.47 1.35L5.41 20z\"/>\n",
              "  </svg>\n",
              "      </button>\n",
              "      \n",
              "  <style>\n",
              "    .colab-df-container {\n",
              "      display:flex;\n",
              "      flex-wrap:wrap;\n",
              "      gap: 12px;\n",
              "    }\n",
              "\n",
              "    .colab-df-convert {\n",
              "      background-color: #E8F0FE;\n",
              "      border: none;\n",
              "      border-radius: 50%;\n",
              "      cursor: pointer;\n",
              "      display: none;\n",
              "      fill: #1967D2;\n",
              "      height: 32px;\n",
              "      padding: 0 0 0 0;\n",
              "      width: 32px;\n",
              "    }\n",
              "\n",
              "    .colab-df-convert:hover {\n",
              "      background-color: #E2EBFA;\n",
              "      box-shadow: 0px 1px 2px rgba(60, 64, 67, 0.3), 0px 1px 3px 1px rgba(60, 64, 67, 0.15);\n",
              "      fill: #174EA6;\n",
              "    }\n",
              "\n",
              "    [theme=dark] .colab-df-convert {\n",
              "      background-color: #3B4455;\n",
              "      fill: #D2E3FC;\n",
              "    }\n",
              "\n",
              "    [theme=dark] .colab-df-convert:hover {\n",
              "      background-color: #434B5C;\n",
              "      box-shadow: 0px 1px 3px 1px rgba(0, 0, 0, 0.15);\n",
              "      filter: drop-shadow(0px 1px 2px rgba(0, 0, 0, 0.3));\n",
              "      fill: #FFFFFF;\n",
              "    }\n",
              "  </style>\n",
              "\n",
              "      <script>\n",
              "        const buttonEl =\n",
              "          document.querySelector('#df-98d5c5d2-9bec-4d21-b26d-708c992e6088 button.colab-df-convert');\n",
              "        buttonEl.style.display =\n",
              "          google.colab.kernel.accessAllowed ? 'block' : 'none';\n",
              "\n",
              "        async function convertToInteractive(key) {\n",
              "          const element = document.querySelector('#df-98d5c5d2-9bec-4d21-b26d-708c992e6088');\n",
              "          const dataTable =\n",
              "            await google.colab.kernel.invokeFunction('convertToInteractive',\n",
              "                                                     [key], {});\n",
              "          if (!dataTable) return;\n",
              "\n",
              "          const docLinkHtml = 'Like what you see? Visit the ' +\n",
              "            '<a target=\"_blank\" href=https://colab.research.google.com/notebooks/data_table.ipynb>data table notebook</a>'\n",
              "            + ' to learn more about interactive tables.';\n",
              "          element.innerHTML = '';\n",
              "          dataTable['output_type'] = 'display_data';\n",
              "          await google.colab.output.renderOutput(dataTable, element);\n",
              "          const docLink = document.createElement('div');\n",
              "          docLink.innerHTML = docLinkHtml;\n",
              "          element.appendChild(docLink);\n",
              "        }\n",
              "      </script>\n",
              "    </div>\n",
              "  </div>\n",
              "  "
            ]
          },
          "metadata": {},
          "execution_count": 147
        }
      ]
    },
    {
      "cell_type": "code",
      "source": [
        "df1[df1.columns[0:2]] # by columns"
      ],
      "metadata": {
        "colab": {
          "base_uri": "https://localhost:8080/",
          "height": 359
        },
        "id": "aEI5iEoqAgi0",
        "outputId": "ac8997af-6b1a-4d7b-e621-9df89673d761"
      },
      "execution_count": 148,
      "outputs": [
        {
          "output_type": "execute_result",
          "data": {
            "text/plain": [
              "   key 1  key 2\n",
              "0      0      0\n",
              "1      1      2\n",
              "2      2      4\n",
              "3      3      6\n",
              "4      4      8\n",
              "5      5     10\n",
              "6      6     12\n",
              "7      7     14\n",
              "8      8     16\n",
              "9      9     18"
            ],
            "text/html": [
              "\n",
              "  <div id=\"df-7a5480a4-1a10-425b-956e-75d39eea2906\">\n",
              "    <div class=\"colab-df-container\">\n",
              "      <div>\n",
              "<style scoped>\n",
              "    .dataframe tbody tr th:only-of-type {\n",
              "        vertical-align: middle;\n",
              "    }\n",
              "\n",
              "    .dataframe tbody tr th {\n",
              "        vertical-align: top;\n",
              "    }\n",
              "\n",
              "    .dataframe thead th {\n",
              "        text-align: right;\n",
              "    }\n",
              "</style>\n",
              "<table border=\"1\" class=\"dataframe\">\n",
              "  <thead>\n",
              "    <tr style=\"text-align: right;\">\n",
              "      <th></th>\n",
              "      <th>key 1</th>\n",
              "      <th>key 2</th>\n",
              "    </tr>\n",
              "  </thead>\n",
              "  <tbody>\n",
              "    <tr>\n",
              "      <th>0</th>\n",
              "      <td>0</td>\n",
              "      <td>0</td>\n",
              "    </tr>\n",
              "    <tr>\n",
              "      <th>1</th>\n",
              "      <td>1</td>\n",
              "      <td>2</td>\n",
              "    </tr>\n",
              "    <tr>\n",
              "      <th>2</th>\n",
              "      <td>2</td>\n",
              "      <td>4</td>\n",
              "    </tr>\n",
              "    <tr>\n",
              "      <th>3</th>\n",
              "      <td>3</td>\n",
              "      <td>6</td>\n",
              "    </tr>\n",
              "    <tr>\n",
              "      <th>4</th>\n",
              "      <td>4</td>\n",
              "      <td>8</td>\n",
              "    </tr>\n",
              "    <tr>\n",
              "      <th>5</th>\n",
              "      <td>5</td>\n",
              "      <td>10</td>\n",
              "    </tr>\n",
              "    <tr>\n",
              "      <th>6</th>\n",
              "      <td>6</td>\n",
              "      <td>12</td>\n",
              "    </tr>\n",
              "    <tr>\n",
              "      <th>7</th>\n",
              "      <td>7</td>\n",
              "      <td>14</td>\n",
              "    </tr>\n",
              "    <tr>\n",
              "      <th>8</th>\n",
              "      <td>8</td>\n",
              "      <td>16</td>\n",
              "    </tr>\n",
              "    <tr>\n",
              "      <th>9</th>\n",
              "      <td>9</td>\n",
              "      <td>18</td>\n",
              "    </tr>\n",
              "  </tbody>\n",
              "</table>\n",
              "</div>\n",
              "      <button class=\"colab-df-convert\" onclick=\"convertToInteractive('df-7a5480a4-1a10-425b-956e-75d39eea2906')\"\n",
              "              title=\"Convert this dataframe to an interactive table.\"\n",
              "              style=\"display:none;\">\n",
              "        \n",
              "  <svg xmlns=\"http://www.w3.org/2000/svg\" height=\"24px\"viewBox=\"0 0 24 24\"\n",
              "       width=\"24px\">\n",
              "    <path d=\"M0 0h24v24H0V0z\" fill=\"none\"/>\n",
              "    <path d=\"M18.56 5.44l.94 2.06.94-2.06 2.06-.94-2.06-.94-.94-2.06-.94 2.06-2.06.94zm-11 1L8.5 8.5l.94-2.06 2.06-.94-2.06-.94L8.5 2.5l-.94 2.06-2.06.94zm10 10l.94 2.06.94-2.06 2.06-.94-2.06-.94-.94-2.06-.94 2.06-2.06.94z\"/><path d=\"M17.41 7.96l-1.37-1.37c-.4-.4-.92-.59-1.43-.59-.52 0-1.04.2-1.43.59L10.3 9.45l-7.72 7.72c-.78.78-.78 2.05 0 2.83L4 21.41c.39.39.9.59 1.41.59.51 0 1.02-.2 1.41-.59l7.78-7.78 2.81-2.81c.8-.78.8-2.07 0-2.86zM5.41 20L4 18.59l7.72-7.72 1.47 1.35L5.41 20z\"/>\n",
              "  </svg>\n",
              "      </button>\n",
              "      \n",
              "  <style>\n",
              "    .colab-df-container {\n",
              "      display:flex;\n",
              "      flex-wrap:wrap;\n",
              "      gap: 12px;\n",
              "    }\n",
              "\n",
              "    .colab-df-convert {\n",
              "      background-color: #E8F0FE;\n",
              "      border: none;\n",
              "      border-radius: 50%;\n",
              "      cursor: pointer;\n",
              "      display: none;\n",
              "      fill: #1967D2;\n",
              "      height: 32px;\n",
              "      padding: 0 0 0 0;\n",
              "      width: 32px;\n",
              "    }\n",
              "\n",
              "    .colab-df-convert:hover {\n",
              "      background-color: #E2EBFA;\n",
              "      box-shadow: 0px 1px 2px rgba(60, 64, 67, 0.3), 0px 1px 3px 1px rgba(60, 64, 67, 0.15);\n",
              "      fill: #174EA6;\n",
              "    }\n",
              "\n",
              "    [theme=dark] .colab-df-convert {\n",
              "      background-color: #3B4455;\n",
              "      fill: #D2E3FC;\n",
              "    }\n",
              "\n",
              "    [theme=dark] .colab-df-convert:hover {\n",
              "      background-color: #434B5C;\n",
              "      box-shadow: 0px 1px 3px 1px rgba(0, 0, 0, 0.15);\n",
              "      filter: drop-shadow(0px 1px 2px rgba(0, 0, 0, 0.3));\n",
              "      fill: #FFFFFF;\n",
              "    }\n",
              "  </style>\n",
              "\n",
              "      <script>\n",
              "        const buttonEl =\n",
              "          document.querySelector('#df-7a5480a4-1a10-425b-956e-75d39eea2906 button.colab-df-convert');\n",
              "        buttonEl.style.display =\n",
              "          google.colab.kernel.accessAllowed ? 'block' : 'none';\n",
              "\n",
              "        async function convertToInteractive(key) {\n",
              "          const element = document.querySelector('#df-7a5480a4-1a10-425b-956e-75d39eea2906');\n",
              "          const dataTable =\n",
              "            await google.colab.kernel.invokeFunction('convertToInteractive',\n",
              "                                                     [key], {});\n",
              "          if (!dataTable) return;\n",
              "\n",
              "          const docLinkHtml = 'Like what you see? Visit the ' +\n",
              "            '<a target=\"_blank\" href=https://colab.research.google.com/notebooks/data_table.ipynb>data table notebook</a>'\n",
              "            + ' to learn more about interactive tables.';\n",
              "          element.innerHTML = '';\n",
              "          dataTable['output_type'] = 'display_data';\n",
              "          await google.colab.output.renderOutput(dataTable, element);\n",
              "          const docLink = document.createElement('div');\n",
              "          docLink.innerHTML = docLinkHtml;\n",
              "          element.appendChild(docLink);\n",
              "        }\n",
              "      </script>\n",
              "    </div>\n",
              "  </div>\n",
              "  "
            ]
          },
          "metadata": {},
          "execution_count": 148
        }
      ]
    },
    {
      "cell_type": "markdown",
      "source": [
        "***iloc*** allows indexing like Numpy"
      ],
      "metadata": {
        "id": "FQzCU5UXA8Gt"
      }
    },
    {
      "cell_type": "code",
      "source": [
        "df1.iloc[0:5,1::]"
      ],
      "metadata": {
        "colab": {
          "base_uri": "https://localhost:8080/",
          "height": 204
        },
        "id": "iySok0bbAqTB",
        "outputId": "7bba8738-a2cd-4eb6-96eb-7682498e0664"
      },
      "execution_count": 150,
      "outputs": [
        {
          "output_type": "execute_result",
          "data": {
            "text/plain": [
              "   key 2 key 3\n",
              "0      0     0\n",
              "1      2     3\n",
              "2      4     6\n",
              "3      6     9\n",
              "4      8    12"
            ],
            "text/html": [
              "\n",
              "  <div id=\"df-54cd3d25-e36a-48fb-8ad0-d679e9b52f59\">\n",
              "    <div class=\"colab-df-container\">\n",
              "      <div>\n",
              "<style scoped>\n",
              "    .dataframe tbody tr th:only-of-type {\n",
              "        vertical-align: middle;\n",
              "    }\n",
              "\n",
              "    .dataframe tbody tr th {\n",
              "        vertical-align: top;\n",
              "    }\n",
              "\n",
              "    .dataframe thead th {\n",
              "        text-align: right;\n",
              "    }\n",
              "</style>\n",
              "<table border=\"1\" class=\"dataframe\">\n",
              "  <thead>\n",
              "    <tr style=\"text-align: right;\">\n",
              "      <th></th>\n",
              "      <th>key 2</th>\n",
              "      <th>key 3</th>\n",
              "    </tr>\n",
              "  </thead>\n",
              "  <tbody>\n",
              "    <tr>\n",
              "      <th>0</th>\n",
              "      <td>0</td>\n",
              "      <td>0</td>\n",
              "    </tr>\n",
              "    <tr>\n",
              "      <th>1</th>\n",
              "      <td>2</td>\n",
              "      <td>3</td>\n",
              "    </tr>\n",
              "    <tr>\n",
              "      <th>2</th>\n",
              "      <td>4</td>\n",
              "      <td>6</td>\n",
              "    </tr>\n",
              "    <tr>\n",
              "      <th>3</th>\n",
              "      <td>6</td>\n",
              "      <td>9</td>\n",
              "    </tr>\n",
              "    <tr>\n",
              "      <th>4</th>\n",
              "      <td>8</td>\n",
              "      <td>12</td>\n",
              "    </tr>\n",
              "  </tbody>\n",
              "</table>\n",
              "</div>\n",
              "      <button class=\"colab-df-convert\" onclick=\"convertToInteractive('df-54cd3d25-e36a-48fb-8ad0-d679e9b52f59')\"\n",
              "              title=\"Convert this dataframe to an interactive table.\"\n",
              "              style=\"display:none;\">\n",
              "        \n",
              "  <svg xmlns=\"http://www.w3.org/2000/svg\" height=\"24px\"viewBox=\"0 0 24 24\"\n",
              "       width=\"24px\">\n",
              "    <path d=\"M0 0h24v24H0V0z\" fill=\"none\"/>\n",
              "    <path d=\"M18.56 5.44l.94 2.06.94-2.06 2.06-.94-2.06-.94-.94-2.06-.94 2.06-2.06.94zm-11 1L8.5 8.5l.94-2.06 2.06-.94-2.06-.94L8.5 2.5l-.94 2.06-2.06.94zm10 10l.94 2.06.94-2.06 2.06-.94-2.06-.94-.94-2.06-.94 2.06-2.06.94z\"/><path d=\"M17.41 7.96l-1.37-1.37c-.4-.4-.92-.59-1.43-.59-.52 0-1.04.2-1.43.59L10.3 9.45l-7.72 7.72c-.78.78-.78 2.05 0 2.83L4 21.41c.39.39.9.59 1.41.59.51 0 1.02-.2 1.41-.59l7.78-7.78 2.81-2.81c.8-.78.8-2.07 0-2.86zM5.41 20L4 18.59l7.72-7.72 1.47 1.35L5.41 20z\"/>\n",
              "  </svg>\n",
              "      </button>\n",
              "      \n",
              "  <style>\n",
              "    .colab-df-container {\n",
              "      display:flex;\n",
              "      flex-wrap:wrap;\n",
              "      gap: 12px;\n",
              "    }\n",
              "\n",
              "    .colab-df-convert {\n",
              "      background-color: #E8F0FE;\n",
              "      border: none;\n",
              "      border-radius: 50%;\n",
              "      cursor: pointer;\n",
              "      display: none;\n",
              "      fill: #1967D2;\n",
              "      height: 32px;\n",
              "      padding: 0 0 0 0;\n",
              "      width: 32px;\n",
              "    }\n",
              "\n",
              "    .colab-df-convert:hover {\n",
              "      background-color: #E2EBFA;\n",
              "      box-shadow: 0px 1px 2px rgba(60, 64, 67, 0.3), 0px 1px 3px 1px rgba(60, 64, 67, 0.15);\n",
              "      fill: #174EA6;\n",
              "    }\n",
              "\n",
              "    [theme=dark] .colab-df-convert {\n",
              "      background-color: #3B4455;\n",
              "      fill: #D2E3FC;\n",
              "    }\n",
              "\n",
              "    [theme=dark] .colab-df-convert:hover {\n",
              "      background-color: #434B5C;\n",
              "      box-shadow: 0px 1px 3px 1px rgba(0, 0, 0, 0.15);\n",
              "      filter: drop-shadow(0px 1px 2px rgba(0, 0, 0, 0.3));\n",
              "      fill: #FFFFFF;\n",
              "    }\n",
              "  </style>\n",
              "\n",
              "      <script>\n",
              "        const buttonEl =\n",
              "          document.querySelector('#df-54cd3d25-e36a-48fb-8ad0-d679e9b52f59 button.colab-df-convert');\n",
              "        buttonEl.style.display =\n",
              "          google.colab.kernel.accessAllowed ? 'block' : 'none';\n",
              "\n",
              "        async function convertToInteractive(key) {\n",
              "          const element = document.querySelector('#df-54cd3d25-e36a-48fb-8ad0-d679e9b52f59');\n",
              "          const dataTable =\n",
              "            await google.colab.kernel.invokeFunction('convertToInteractive',\n",
              "                                                     [key], {});\n",
              "          if (!dataTable) return;\n",
              "\n",
              "          const docLinkHtml = 'Like what you see? Visit the ' +\n",
              "            '<a target=\"_blank\" href=https://colab.research.google.com/notebooks/data_table.ipynb>data table notebook</a>'\n",
              "            + ' to learn more about interactive tables.';\n",
              "          element.innerHTML = '';\n",
              "          dataTable['output_type'] = 'display_data';\n",
              "          await google.colab.output.renderOutput(dataTable, element);\n",
              "          const docLink = document.createElement('div');\n",
              "          docLink.innerHTML = docLinkHtml;\n",
              "          element.appendChild(docLink);\n",
              "        }\n",
              "      </script>\n",
              "    </div>\n",
              "  </div>\n",
              "  "
            ]
          },
          "metadata": {},
          "execution_count": 150
        }
      ]
    },
    {
      "cell_type": "markdown",
      "source": [
        "Transform DataFrame to Numpy"
      ],
      "metadata": {
        "id": "DwDwH9P8BW6X"
      }
    },
    {
      "cell_type": "code",
      "source": [
        "df1.to_numpy()"
      ],
      "metadata": {
        "colab": {
          "base_uri": "https://localhost:8080/"
        },
        "id": "7hdPwEAxBMTE",
        "outputId": "c994b94d-2205-4757-bbda-223f770c874c"
      },
      "execution_count": 151,
      "outputs": [
        {
          "output_type": "execute_result",
          "data": {
            "text/plain": [
              "array([[0, 0, '0'],\n",
              "       [1, 2, '3'],\n",
              "       [2, 4, '6'],\n",
              "       [3, 6, '9'],\n",
              "       [4, 8, '12'],\n",
              "       [5, 10, '15'],\n",
              "       [6, 12, '18'],\n",
              "       [7, 14, '21'],\n",
              "       [8, 16, '24'],\n",
              "       [9, 18, '27']], dtype=object)"
            ]
          },
          "metadata": {},
          "execution_count": 151
        }
      ]
    },
    {
      "cell_type": "markdown",
      "source": [
        "Basic statistic analysis"
      ],
      "metadata": {
        "id": "1PaDugntBw2S"
      }
    },
    {
      "cell_type": "code",
      "source": [
        "df1['key 3'].describe()"
      ],
      "metadata": {
        "colab": {
          "base_uri": "https://localhost:8080/"
        },
        "id": "ZZ44aldXBeQs",
        "outputId": "5e6ad902-45d2-4e85-fd3f-363255ce0286"
      },
      "execution_count": 153,
      "outputs": [
        {
          "output_type": "execute_result",
          "data": {
            "text/plain": [
              "count     10\n",
              "unique    10\n",
              "top        0\n",
              "freq       1\n",
              "Name: key 3, dtype: object"
            ]
          },
          "metadata": {},
          "execution_count": 153
        }
      ]
    },
    {
      "cell_type": "markdown",
      "source": [
        "See complete documentation [here.](https://pandas.pydata.org)"
      ],
      "metadata": {
        "id": "7bEIxxdGB5vy"
      }
    },
    {
      "cell_type": "markdown",
      "source": [
        "# Other usefull libraries"
      ],
      "metadata": {
        "id": "14wxMBNLCUlB"
      }
    },
    {
      "cell_type": "markdown",
      "source": [
        "\n",
        "\n",
        "*   [Seaborn](https://seaborn.pydata.org): Graphics.\n",
        "*   [Scipy](https://scipy.org): Statistics.\n",
        "*   [Sklearn](https://scikit-learn.org/stable/): Machine learning.\n",
        "*   [Tensorflow](https://www.tensorflow.org): Deep learning.\n",
        "*   [Pytorch](https://pytorch.org): Deep learning.\n",
        "\n"
      ],
      "metadata": {
        "id": "gHWBWVbOCZYz"
      }
    }
  ]
}